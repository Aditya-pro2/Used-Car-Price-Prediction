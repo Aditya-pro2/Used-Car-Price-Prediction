{
 "cells": [
  {
   "cell_type": "code",
   "execution_count": 1,
   "id": "3d43978d",
   "metadata": {
    "execution": {
     "iopub.execute_input": "2024-09-15T16:56:21.022908Z",
     "iopub.status.busy": "2024-09-15T16:56:21.022337Z",
     "iopub.status.idle": "2024-09-15T16:56:39.068699Z",
     "shell.execute_reply": "2024-09-15T16:56:39.067355Z"
    },
    "papermill": {
     "duration": 18.059948,
     "end_time": "2024-09-15T16:56:39.072012",
     "exception": false,
     "start_time": "2024-09-15T16:56:21.012064",
     "status": "completed"
    },
    "tags": []
   },
   "outputs": [],
   "source": [
    "import pandas as pd\n",
    "import numpy as np\n",
    "import matplotlib.pyplot as plt\n",
    "import seaborn as sns\n",
    "from sklearn.preprocessing import MinMaxScaler,LabelEncoder\n",
    "from sklearn.model_selection import train_test_split\n",
    "from tensorflow.keras.models import Sequential,load_model\n",
    "from tensorflow.keras.layers import Dense,Dropout,Input,BatchNormalization\n",
    "from tensorflow.keras.callbacks import EarlyStopping,ReduceLROnPlateau\n",
    "import tensorflow as tf\n",
    "from tensorflow.keras.optimizers import Adam\n",
    "from datetime import datetime\n",
    "import warnings\n",
    "warnings.filterwarnings('ignore')"
   ]
  },
  {
   "cell_type": "code",
   "execution_count": 2,
   "id": "0ca0da92",
   "metadata": {
    "execution": {
     "iopub.execute_input": "2024-09-15T16:56:39.085316Z",
     "iopub.status.busy": "2024-09-15T16:56:39.083779Z",
     "iopub.status.idle": "2024-09-15T16:56:40.547645Z",
     "shell.execute_reply": "2024-09-15T16:56:40.546358Z"
    },
    "papermill": {
     "duration": 1.472941,
     "end_time": "2024-09-15T16:56:40.550328",
     "exception": false,
     "start_time": "2024-09-15T16:56:39.077387",
     "status": "completed"
    },
    "tags": []
   },
   "outputs": [
    {
     "data": {
      "text/plain": [
       "((188533, 13), (125690, 12), (125690, 2))"
      ]
     },
     "execution_count": 2,
     "metadata": {},
     "output_type": "execute_result"
    }
   ],
   "source": [
    "df = pd.read_csv('Data/train.csv')\n",
    "dt = pd.read_csv('Data/test.csv')\n",
    "sf = pd.read_csv('Data/sample_submission.csv')\n",
    "df.shape, dt.shape, sf.shape"
   ]
  },
  {
   "cell_type": "code",
   "execution_count": 3,
   "id": "9ceb91a2",
   "metadata": {
    "execution": {
     "iopub.execute_input": "2024-09-15T16:56:40.563452Z",
     "iopub.status.busy": "2024-09-15T16:56:40.562879Z",
     "iopub.status.idle": "2024-09-15T16:56:40.682435Z",
     "shell.execute_reply": "2024-09-15T16:56:40.681067Z"
    },
    "papermill": {
     "duration": 0.129625,
     "end_time": "2024-09-15T16:56:40.685298",
     "exception": false,
     "start_time": "2024-09-15T16:56:40.555673",
     "status": "completed"
    },
    "tags": []
   },
   "outputs": [
    {
     "name": "stdout",
     "output_type": "stream",
     "text": [
      "<class 'pandas.core.frame.DataFrame'>\n",
      "RangeIndex: 188533 entries, 0 to 188532\n",
      "Data columns (total 13 columns):\n",
      " #   Column        Non-Null Count   Dtype \n",
      "---  ------        --------------   ----- \n",
      " 0   id            188533 non-null  int64 \n",
      " 1   brand         188533 non-null  object\n",
      " 2   model         188533 non-null  object\n",
      " 3   model_year    188533 non-null  int64 \n",
      " 4   milage        188533 non-null  int64 \n",
      " 5   fuel_type     183450 non-null  object\n",
      " 6   engine        188533 non-null  object\n",
      " 7   transmission  188533 non-null  object\n",
      " 8   ext_col       188533 non-null  object\n",
      " 9   int_col       188533 non-null  object\n",
      " 10  accident      186081 non-null  object\n",
      " 11  clean_title   167114 non-null  object\n",
      " 12  price         188533 non-null  int64 \n",
      "dtypes: int64(4), object(9)\n",
      "memory usage: 18.7+ MB\n"
     ]
    }
   ],
   "source": [
    "y = df['price']\n",
    "df.info()"
   ]
  },
  {
   "cell_type": "code",
   "execution_count": 4,
   "id": "eee54751",
   "metadata": {
    "execution": {
     "iopub.execute_input": "2024-09-15T16:56:40.698056Z",
     "iopub.status.busy": "2024-09-15T16:56:40.697105Z",
     "iopub.status.idle": "2024-09-15T16:56:40.838246Z",
     "shell.execute_reply": "2024-09-15T16:56:40.836922Z"
    },
    "papermill": {
     "duration": 0.150317,
     "end_time": "2024-09-15T16:56:40.840868",
     "exception": false,
     "start_time": "2024-09-15T16:56:40.690551",
     "status": "completed"
    },
    "tags": []
   },
   "outputs": [
    {
     "data": {
      "text/plain": [
       "(id                  0\n",
       " brand               0\n",
       " model               0\n",
       " model_year          0\n",
       " milage              0\n",
       " fuel_type        5083\n",
       " engine              0\n",
       " transmission        0\n",
       " ext_col             0\n",
       " int_col             0\n",
       " accident         2452\n",
       " clean_title     21419\n",
       " price               0\n",
       " dtype: int64,\n",
       " id                  0\n",
       " brand               0\n",
       " model               0\n",
       " model_year          0\n",
       " milage              0\n",
       " fuel_type        3383\n",
       " engine              0\n",
       " transmission        0\n",
       " ext_col             0\n",
       " int_col             0\n",
       " accident         1632\n",
       " clean_title     14239\n",
       " dtype: int64)"
      ]
     },
     "execution_count": 4,
     "metadata": {},
     "output_type": "execute_result"
    }
   ],
   "source": [
    "df.isnull().sum(), dt.isnull().sum()"
   ]
  },
  {
   "cell_type": "code",
   "execution_count": 5,
   "id": "d49d7b3a",
   "metadata": {
    "execution": {
     "iopub.execute_input": "2024-09-15T16:56:40.853460Z",
     "iopub.status.busy": "2024-09-15T16:56:40.853029Z",
     "iopub.status.idle": "2024-09-15T16:56:44.362837Z",
     "shell.execute_reply": "2024-09-15T16:56:44.361701Z"
    },
    "papermill": {
     "duration": 3.519266,
     "end_time": "2024-09-15T16:56:44.365613",
     "exception": false,
     "start_time": "2024-09-15T16:56:40.846347",
     "status": "completed"
    },
    "tags": []
   },
   "outputs": [],
   "source": [
    "df['accident'] = df['accident'].map({'None reported': 0, 'At least 1 accident or damage reported': 1})\n",
    "dt['accident'] = dt['accident'].map({'None reported': 0, 'At least 1 accident or damage reported': 1})\n",
    "def fill_clean_title(row):\n",
    "    if pd.isna(row['clean_title']):\n",
    "        return 'missing'\n",
    "    return row['clean_title']\n",
    "df['clean_title'] = df.apply(fill_clean_title, axis = 1).map({'Yes': 1, 'missing': 0})\n",
    "dt['clean_title'] = dt.apply(fill_clean_title, axis = 1).map({'Yes': 1, 'missing': 0})"
   ]
  },
  {
   "cell_type": "code",
   "execution_count": 6,
   "id": "737a826e",
   "metadata": {
    "execution": {
     "iopub.execute_input": "2024-09-15T16:56:44.379057Z",
     "iopub.status.busy": "2024-09-15T16:56:44.378002Z",
     "iopub.status.idle": "2024-09-15T16:56:47.761622Z",
     "shell.execute_reply": "2024-09-15T16:56:47.760341Z"
    },
    "papermill": {
     "duration": 3.393039,
     "end_time": "2024-09-15T16:56:47.764373",
     "exception": false,
     "start_time": "2024-09-15T16:56:44.371334",
     "status": "completed"
    },
    "tags": []
   },
   "outputs": [],
   "source": [
    "def extract_data_from_engine(df):\n",
    "    df = df.copy()\n",
    "    df['horsepower'] = df['engine'].str.extract(r'(\\d+\\.\\d+)(?=HP)').astype(float)\n",
    "    df['engine_size'] = df['engine'].str.extract(r'(\\d+\\.\\d+)(?=L)').astype(float)\n",
    "    df['cylinders'] = df['engine'].str.extract(r'(\\d+)\\s(Cylinder|V\\d|Straight)')[0].astype(float)\n",
    "    return df\n",
    "df = extract_data_from_engine(df)\n",
    "dt = extract_data_from_engine(dt)"
   ]
  },
  {
   "cell_type": "code",
   "execution_count": 7,
   "id": "e50ba4a7",
   "metadata": {
    "execution": {
     "iopub.execute_input": "2024-09-15T16:56:47.777314Z",
     "iopub.status.busy": "2024-09-15T16:56:47.776843Z",
     "iopub.status.idle": "2024-09-15T16:56:48.310416Z",
     "shell.execute_reply": "2024-09-15T16:56:48.309403Z"
    },
    "papermill": {
     "duration": 0.543017,
     "end_time": "2024-09-15T16:56:48.313109",
     "exception": false,
     "start_time": "2024-09-15T16:56:47.770092",
     "status": "completed"
    },
    "tags": []
   },
   "outputs": [],
   "source": [
    "def extract_fuel_type(engine_info):\n",
    "    if pd.isna(engine_info):\n",
    "        return np.nan\n",
    "    if 'Gasoline' in engine_info:\n",
    "        return 'Gasoline'\n",
    "    elif 'Hybrid' in engine_info:\n",
    "        return 'Hybrid'\n",
    "    elif 'Flex Fuel' in engine_info or 'E85' in engine_info:\n",
    "        return 'Flex Fuel'\n",
    "    elif 'Diesel' in engine_info:\n",
    "        return 'Diesel'\n",
    "    elif 'Electric' in engine_info:\n",
    "        return 'Electric'\n",
    "    else:\n",
    "        return np.nan\n",
    "\n",
    "df['extracted_fuel_type'] = df['engine'].apply(extract_fuel_type)\n",
    "df['fuel_type'].fillna(df['extracted_fuel_type'], inplace = True)\n",
    "df.drop(columns=['extracted_fuel_type'], inplace = True)\n",
    "dt['extracted_fuel_type'] = dt['engine'].apply(extract_fuel_type)\n",
    "dt['fuel_type'].fillna(dt['extracted_fuel_type'], inplace = True)\n",
    "dt.drop(columns=['extracted_fuel_type'], inplace = True)\n",
    "def feature(df):\n",
    "    df['brand'] = df['brand'].str.lower()\n",
    "    current_year = datetime.now().year\n",
    "    df['Vehicle_Age'] = current_year - df['model_year']\n",
    "    df['Mileage_per_Year'] = df['milage'] / (df['Vehicle_Age'] + 10e-5)\n",
    "    luxury_brands = [\"mercedes-benz\", \"bmw\", \"audi\", \"porsche\", \"lexus\", \"cadillac\", \"jaguar\", \"bentley\", \"genesis\", \"maserati\", \"lamborghini\", \"rolls-royce\", \"ferrari\", \"mclaren\", \"aston\", \"lotus\", \"bugatti\", \"maybach\"]\n",
    "    df['Is_Luxury_Brand'] = df['brand'].apply(lambda x: 1 if x in luxury_brands else 0)\n",
    "    \n",
    "    return df\n",
    "\n",
    "df = feature(df)\n",
    "dt = feature(dt)"
   ]
  },
  {
   "cell_type": "code",
   "execution_count": 8,
   "id": "0791611a",
   "metadata": {
    "execution": {
     "iopub.execute_input": "2024-09-15T16:56:48.325877Z",
     "iopub.status.busy": "2024-09-15T16:56:48.325468Z",
     "iopub.status.idle": "2024-09-15T16:56:50.948269Z",
     "shell.execute_reply": "2024-09-15T16:56:50.947091Z"
    },
    "papermill": {
     "duration": 2.632432,
     "end_time": "2024-09-15T16:56:50.950946",
     "exception": false,
     "start_time": "2024-09-15T16:56:48.318514",
     "status": "completed"
    },
    "tags": []
   },
   "outputs": [],
   "source": [
    "int_replacements = {\n",
    "    'Medium Earth Gray': 'Gray',\n",
    "    'Diesel Gray / Black': 'Gray',\n",
    "    'Dark Ash': 'Gray',\n",
    "    'Graphite': 'Gray',\n",
    "    'Dark Galvanized': 'Charcoal',\n",
    "    'Light Gray': 'Gray',\n",
    "    'Ash': 'Gray',\n",
    "    'Jet Black': 'Black',\n",
    "    'Global Black': 'Black',\n",
    "    'Black Onyx': 'Black',\n",
    "    'Parchment.': 'Beige',\n",
    "    'Sardar Brown': 'Brown',\n",
    "    'Black/Gun Metal': 'Black',\n",
    "    'Charcoal Black': 'Charcoal',\n",
    "    'Ebony': 'Brown',\n",
    "    'Ebony Black': 'Black',\n",
    "    'Carbon Black': 'Black',\n",
    "    'Obsidian Black': 'Black',\n",
    "    'Black / Saddle Brown': 'Black',\n",
    "    'Black/Saddle Brown': 'Black',\n",
    "    'Black / Brown': 'Black',\n",
    "    'Saddle Brown': 'Brown',\n",
    "    'Sand Beige': 'Beige',\n",
    "    'Camel': 'Beige',\n",
    "    'Parchment': 'Beige',\n",
    "    'Macchiato Beige/Black': 'Beige',\n",
    "    'Silk Beige/Espresso Brown': 'Beige',\n",
    "    'Canberra Beige': 'Beige',\n",
    "    'Macchiato': 'Beige',\n",
    "    'Almond Beige': 'Beige',\n",
    "    'Grace White': 'White',\n",
    "    'Ivory / Ebony': 'White',\n",
    "    'Bianco Polar': 'White',\n",
    "    'White / Brown': 'White',\n",
    "    'Platinum': 'White',\n",
    "    'Cloud': 'Blue',\n",
    "    'Rift Metallic': 'White',\n",
    "    'Light Platinum / Jet Black': 'Silver',\n",
    "    'Billet Clearcoat Metallic': 'Silver',\n",
    "    'Sakhir Orange': 'Orange',\n",
    "    'Pimento Red w/Ebony': 'Red',\n",
    "    'Adrenaline Red': 'Red',\n",
    "    'Rioja Red': 'Red',\n",
    "    'Classic Red': 'Red',\n",
    "    'Magma Red': 'Red',\n",
    "    'Cobalt Blue': 'Blue',\n",
    "    'Tempest': 'Blue',\n",
    "    'Stormy Sea': 'Blue',\n",
    "    'Navy Pier': 'Blue',\n",
    "    'Charles Blue': 'Blue',\n",
    "    'Rhapsody Blue': 'Blue',\n",
    "    'Kyalami Orange': 'Orange',\n",
    "    'Sakhir Orange/Black': 'Orange',\n",
    "    'Dark Gray': 'Gray',\n",
    "    'Deep Garnet': 'Red',\n",
    "    'Scarlet Ember': 'Red',\n",
    "    'Beluga': 'Blue',\n",
    "    'Chestnut': 'Brown',\n",
    "    'Boulder': 'Gray',\n",
    "    'Macchiato/Magmagrey': 'Beige',\n",
    "    'Medium Stone': 'Gray',\n",
    "    'BLACK': 'Black',\n",
    "    'Portland': 'Gray',\n",
    "    'Sandstone': 'Beige',\n",
    "    'Slate': 'Gray',\n",
    "    'Cappuccino': 'Brown',\n",
    "    'Oyster W/Contrast': 'Beige',\n",
    "    'Nero Ade': 'Black',\n",
    "    'Light Titanium': 'Silver',\n",
    "    'Tan': 'Beige',\n",
    "    'Brandy': 'Brown',\n",
    "    'Amber': 'Yellow',\n",
    "    'Hotspur': 'Blue',\n",
    "    'Chateau': 'Green',\n",
    "    'Ice': 'Blue',\n",
    "    'Blk': 'Black',\n",
    "    'Mesa': 'Brown',\n",
    "    'Espresso': 'Brown',\n",
    "    'Ceramic': 'White',\n",
    "    'Medium Dark Slate': 'Gray',\n",
    "    'Graphite w/Gun Metal': 'Gray',\n",
    "    'Cocoa / Dune': 'Brown',\n",
    "    'Roast': 'Brown',\n",
    "    'Hotspur Hide': 'Brown',\n",
    "    'ORANGE': 'Orange',\n",
    "    'Walnut': 'Brown',\n",
    "    'Caramel': 'Beige',\n",
    "    'Giallo Taurus / Nero Ade': 'Yellow',\n",
    "    'Medium Pewter': 'Gray',\n",
    "    'Camel Leather': 'Brown',\n",
    "    'Anthracite': 'Gray',\n",
    "    'Mocha': 'Brown',\n",
    "    'Sahara Tan': 'Beige',\n",
    "    'Porpoise': 'Beige',\n",
    "    'Deep Cypress': 'Green',\n",
    "    'Light Slate': 'Gray',\n",
    "    'Beluga Hide': 'Black',\n",
    "    'Tupelo': 'Green',\n",
    "    'Gideon': 'Beige',\n",
    "    'Medium Light Camel': 'Beige',\n",
    "    'Nero': 'Black',\n",
    "    'Deep Chestnut': 'Red',\n",
    "    'Dark Auburn': 'Brown',\n",
    "    'Shale': 'Gray',\n",
    "    'BEIGE': 'Beige',\n",
    "    'Linen': 'Beige',\n",
    "    'WHITE': 'White'\n",
    "}\n",
    "ext_replacements = {\n",
    "    'Blu': 'Blue',\n",
    "    'BLUE': 'Blue',\n",
    "    'Glacier': 'Blue',\n",
    "    'BLU ELEOS': 'Blue',\n",
    "    'Dark Sapphire': 'Navy',\n",
    "    'Tangerine': 'Orange',\n",
    "    'Pumpkin': 'Orange',\n",
    "    'Clementine': 'Orange',\n",
    "    'Granite': 'Gray',\n",
    "    'Go Mango!': 'Yellow',\n",
    "    'Onyx': 'Black',\n",
    "    'Gecko Pearlcoat': 'Green',\n",
    "    'Obsidian': 'Black',\n",
    "    'Metallic': 'Silver',\n",
    "    'Grigio Nimbus': 'Silver',\n",
    "    'Chalk': 'White',\n",
    "    'Bianco Monocerus': 'White',\n",
    "    'Verde': 'Green',\n",
    "    'Dark Graphite Metallic': 'Gray',\n",
    "    'BLACK': 'Black',\n",
    "    'Dark Moss': 'Green',\n",
    "    'Granite Crystal Clearcoat Metallic': 'Gray',\n",
    "    'Ebony Twilight Metallic': 'Black',\n",
    "    'Satin Steel Metallic': 'Silver',\n",
    "    'Magnetic Metallic': 'Gray',\n",
    "    'Dark Matter Metallic': 'Gray',\n",
    "    'Dark Ash Metallic': 'Gray',\n",
    "    'Iridium Metallic': 'Gray',\n",
    "    'Nightfall Mica': 'Navy',\n",
    "    'Sandstone Metallic': 'Beige',\n",
    "    'Rift Metallic': 'White',\n",
    "    'Billet Clearcoat Metallic': 'Silver',\n",
    "    'Tan': 'Beige',\n",
    "    'Ice': 'Blue',\n",
    "    'Hellayella': 'Yellow',\n",
    "    'Granite': 'Gray',\n",
    "    'Yulong': 'White',\n",
    "    'Blueprint': 'Navy',\n",
    "    'Arancio Borealis': 'Orange',\n",
    "    'Hellayella Clearcoat': 'Yellow',\n",
    "    'Moonlight Cloud': 'Navy',\n",
    "    'Liquid Platinum': 'Silver',\n",
    "    'Gun Metallic': 'Gray',\n",
    "    'Manhattan Noir Metallic': 'Gray',\n",
    "    'Lavender': 'Purple',\n",
    "    'Violet': 'Purple',\n",
    "    'Pink': 'Purple',\n",
    "    'Mauve': 'Plum',\n",
    "    'Tempest': 'Blue',\n",
    "    'Nero Daytona': 'Black',\n",
    "    'Scarlet Ember': 'Red',\n",
    "    'Infrared Tintcoat': 'Red',\n",
    "    'Maximum Steel Metallic': 'Gray',\n",
    "    'Ember Pearlcoat': 'Brown',\n",
    "    'Rich Garnet Metallic': 'Brown',\n",
    "    'Tungsten Metallic': 'Gray',\n",
    "    'Nero Noctis': 'Black',\n",
    "    'Platinum Quartz Metallic': 'White',\n",
    "    'Ruby Flare Pearl': 'Red',\n",
    "    'Bianco Icarus Metallic': 'White',\n",
    "    'Stormy Sea': 'Blue',\n",
    "    'Mountain Air Metallic': 'Blue',\n",
    "    'Wind Chill Pearl': 'White',\n",
    "    'Iridescent Pearl Tricoat': 'White',\n",
    "    'Black Cherry': 'Plum',\n",
    "    'Black Forest Green': 'Green',\n",
    "    'Maroon': 'Red',\n",
    "    'Rosso': 'Red',\n",
    "    'Rosso Corsa': 'Red',\n",
    "    'Rosso Mars Metallic': 'Red',\n",
    "    'Quicksilver Metallic': 'Silver',\n",
    "    'Designo Magno Matte': 'Gray',\n",
    "    'Granite Crystal Metallic Clearcoat': 'Gray',\n",
    "    'Bianco Isis': 'White',\n",
    "    'Sunset Drift Chromaflair': 'Orange',\n",
    "    'Ametrin Metallic': 'Plum',\n",
    "    'GT SILVER': 'Silver',\n",
    "    'Caviar': 'Black'\n",
    "}\n",
    "def standardize_and_extract_colors(df, int_replacements, ext_replacements):\n",
    "    df['int_col'] = df['int_col'].replace(int_replacements)\n",
    "    df['ext_col'] = df['ext_col'].replace(ext_replacements)\n",
    "    df['int_col'] = df['int_col'].str.lower()\n",
    "    df['ext_col'] = df['ext_col'].str.lower()\n",
    "    base_colors = [\n",
    "    'black', 'white', 'gray', 'silver', 'brown', 'red', 'blue', 'green',\n",
    "    'beige', 'tan', 'orange', 'yellow', 'purple', 'plum', 'charcoal', \n",
    "    'ivory', 'camel', 'chestnut', 'pearl', 'linen', 'graphite', 'copper', \n",
    "    'slate', 'bronze', 'sand', 'amber', 'macchiato', 'ebony', 'cocoa', 'navy'\n",
    "    ]\n",
    "    def find_base_color(text):\n",
    "        for color in base_colors:\n",
    "            if color in text:\n",
    "                return color\n",
    "        return text\n",
    "    df['int_col'] = df['int_col'].apply(find_base_color)\n",
    "    df['ext_col'] = df['ext_col'].apply(find_base_color)\n",
    "    return df\n",
    "dt = standardize_and_extract_colors(dt, int_replacements, ext_replacements)\n",
    "df = standardize_and_extract_colors(df, int_replacements, ext_replacements)"
   ]
  },
  {
   "cell_type": "code",
   "execution_count": 9,
   "id": "9f61b7cd",
   "metadata": {
    "execution": {
     "iopub.execute_input": "2024-09-15T16:56:50.964046Z",
     "iopub.status.busy": "2024-09-15T16:56:50.963308Z",
     "iopub.status.idle": "2024-09-15T16:56:51.096412Z",
     "shell.execute_reply": "2024-09-15T16:56:51.095273Z"
    },
    "papermill": {
     "duration": 0.142177,
     "end_time": "2024-09-15T16:56:51.098816",
     "exception": false,
     "start_time": "2024-09-15T16:56:50.956639",
     "status": "completed"
    },
    "tags": []
   },
   "outputs": [
    {
     "data": {
      "text/plain": [
       "(id                      0\n",
       " brand                   0\n",
       " model                   0\n",
       " model_year              0\n",
       " milage                  0\n",
       " fuel_type             177\n",
       " engine                  0\n",
       " transmission            0\n",
       " ext_col                 0\n",
       " int_col                 0\n",
       " accident             2452\n",
       " clean_title             0\n",
       " price                   0\n",
       " horsepower          33259\n",
       " engine_size         14214\n",
       " cylinders           37855\n",
       " Vehicle_Age             0\n",
       " Mileage_per_Year        0\n",
       " Is_Luxury_Brand         0\n",
       " dtype: int64,\n",
       " id                      0\n",
       " brand                   0\n",
       " model                   0\n",
       " model_year              0\n",
       " milage                  0\n",
       " fuel_type             111\n",
       " engine                  0\n",
       " transmission            0\n",
       " ext_col                 0\n",
       " int_col                 0\n",
       " accident             1632\n",
       " clean_title             0\n",
       " horsepower          22181\n",
       " engine_size          9407\n",
       " cylinders           25150\n",
       " Vehicle_Age             0\n",
       " Mileage_per_Year        0\n",
       " Is_Luxury_Brand         0\n",
       " dtype: int64)"
      ]
     },
     "execution_count": 9,
     "metadata": {},
     "output_type": "execute_result"
    }
   ],
   "source": [
    "df.isnull().sum(), dt.isnull().sum()"
   ]
  },
  {
   "cell_type": "code",
   "execution_count": 10,
   "id": "d37ec65d",
   "metadata": {
    "execution": {
     "iopub.execute_input": "2024-09-15T16:56:51.112221Z",
     "iopub.status.busy": "2024-09-15T16:56:51.111774Z",
     "iopub.status.idle": "2024-09-15T16:56:51.955039Z",
     "shell.execute_reply": "2024-09-15T16:56:51.953861Z"
    },
    "papermill": {
     "duration": 0.853152,
     "end_time": "2024-09-15T16:56:51.957656",
     "exception": false,
     "start_time": "2024-09-15T16:56:51.104504",
     "status": "completed"
    },
    "tags": []
   },
   "outputs": [
    {
     "data": {
      "image/png": "[encoded data removed]",
      "text/plain": [
       "<Figure size 1600x100 with 2 Axes>"
      ]
     },
     "metadata": {},
     "output_type": "display_data"
    }
   ],
   "source": [
    "cat_feats = ['brand', 'fuel_type', 'ext_col', 'int_col', 'model']  \n",
    "numeric_feats = ['milage', 'horsepower', 'engine_size', 'cylinders', 'accident', 'Is_Luxury_Brand', 'Mileage_per_Year', 'Vehicle_Age', 'cylinders'] \n",
    "temp=df.dropna()\n",
    "temp=temp.apply(lambda x : pd.factorize(x)[0] if x.dtype == 'object' else x)\n",
    "plt.figure(figsize = (16, 1))\n",
    "sns.heatmap(temp.corr()[12 : 13], annot = True, cmap = 'coolwarm')\n",
    "plt.show()"
   ]
  },
  {
   "cell_type": "code",
   "execution_count": 11,
   "id": "a7b3a840",
   "metadata": {
    "execution": {
     "iopub.execute_input": "2024-09-15T16:56:51.971676Z",
     "iopub.status.busy": "2024-09-15T16:56:51.971268Z",
     "iopub.status.idle": "2024-09-15T16:56:52.086245Z",
     "shell.execute_reply": "2024-09-15T16:56:52.084872Z"
    },
    "papermill": {
     "duration": 0.125039,
     "end_time": "2024-09-15T16:56:52.088885",
     "exception": false,
     "start_time": "2024-09-15T16:56:51.963846",
     "status": "completed"
    },
    "tags": []
   },
   "outputs": [
    {
     "name": "stdout",
     "output_type": "stream",
     "text": [
      "<class 'pandas.core.frame.DataFrame'>\n",
      "RangeIndex: 188533 entries, 0 to 188532\n",
      "Data columns (total 15 columns):\n",
      " #   Column            Non-Null Count   Dtype  \n",
      "---  ------            --------------   -----  \n",
      " 0   brand             188533 non-null  object \n",
      " 1   model             188533 non-null  object \n",
      " 2   milage            188533 non-null  int64  \n",
      " 3   fuel_type         188356 non-null  object \n",
      " 4   ext_col           188533 non-null  object \n",
      " 5   int_col           188533 non-null  object \n",
      " 6   accident          186081 non-null  float64\n",
      " 7   clean_title       188533 non-null  int64  \n",
      " 8   price             188533 non-null  int64  \n",
      " 9   horsepower        155274 non-null  float64\n",
      " 10  engine_size       174319 non-null  float64\n",
      " 11  cylinders         150678 non-null  float64\n",
      " 12  Vehicle_Age       188533 non-null  int64  \n",
      " 13  Mileage_per_Year  188533 non-null  float64\n",
      " 14  Is_Luxury_Brand   188533 non-null  int64  \n",
      "dtypes: float64(5), int64(5), object(5)\n",
      "memory usage: 21.6+ MB\n"
     ]
    }
   ],
   "source": [
    "df = df.drop(['id', 'engine', 'transmission', 'model_year'], axis = 1)\n",
    "dt = dt.drop(['id', 'engine', 'transmission', 'model_year'], axis = 1)\n",
    "df.info()"
   ]
  },
  {
   "cell_type": "code",
   "execution_count": 12,
   "id": "ad043105",
   "metadata": {
    "execution": {
     "iopub.execute_input": "2024-09-15T16:56:52.103976Z",
     "iopub.status.busy": "2024-09-15T16:56:52.102997Z",
     "iopub.status.idle": "2024-09-15T16:56:52.880655Z",
     "shell.execute_reply": "2024-09-15T16:56:52.878822Z"
    },
    "papermill": {
     "duration": 0.788903,
     "end_time": "2024-09-15T16:56:52.884226",
     "exception": false,
     "start_time": "2024-09-15T16:56:52.095323",
     "status": "completed"
    },
    "tags": []
   },
   "outputs": [
    {
     "data": {
      "text/plain": [
       "(brand               0\n",
       " model               0\n",
       " milage              0\n",
       " fuel_type           0\n",
       " ext_col             0\n",
       " int_col             0\n",
       " accident            0\n",
       " clean_title         0\n",
       " price               0\n",
       " horsepower          0\n",
       " engine_size         0\n",
       " cylinders           0\n",
       " Vehicle_Age         0\n",
       " Mileage_per_Year    0\n",
       " Is_Luxury_Brand     0\n",
       " dtype: int64,\n",
       " brand               0\n",
       " model               0\n",
       " milage              0\n",
       " fuel_type           0\n",
       " ext_col             0\n",
       " int_col             0\n",
       " accident            0\n",
       " clean_title         0\n",
       " horsepower          0\n",
       " engine_size         0\n",
       " cylinders           0\n",
       " Vehicle_Age         0\n",
       " Mileage_per_Year    0\n",
       " Is_Luxury_Brand     0\n",
       " dtype: int64)"
      ]
     },
     "execution_count": 12,
     "metadata": {},
     "output_type": "execute_result"
    }
   ],
   "source": [
    "def cleaning(df, cat_feats, threshold = 15):\n",
    "    for i in cat_feats:\n",
    "        if df[i].dtype.name == 'category':\n",
    "            if 'missing' not in df[i].cat.categories:\n",
    "                df[i] = df[i].cat.add_categories('missing')\n",
    "            if 'noise' not in df[i].cat.categories:\n",
    "                df[i] = df[i].cat.add_categories('noise')\n",
    "        else:\n",
    "            df[i] = df[i].astype('category')\n",
    "            df[i] = df[i].cat.add_categories(['missing', 'noise'])\n",
    "        df[i] = df[i].fillna('missing')\n",
    "        count = df[i].value_counts(dropna = False)\n",
    "        less_freq = count[count < threshold].index\n",
    "        df[i] = df[i].apply(lambda x: 'noise' if x in less_freq else x)\n",
    "    return df\n",
    "df = cleaning(df, cat_feats)\n",
    "dt = cleaning(dt, cat_feats) \n",
    "def fillna(df, c):\n",
    "    df[c]=df[c].fillna(df[c].mode()[0])\n",
    "for c in numeric_feats:\n",
    "    fillna(df, c)\n",
    "    fillna(dt, c)\n",
    "for col in cat_feats :\n",
    "    le = LabelEncoder()\n",
    "    df[col] = le.fit_transform(df[col])\n",
    "    dt[col] = le.fit_transform(dt[col])  \n",
    "df.isnull().sum(), dt.isnull().sum()"
   ]
  },
  {
   "cell_type": "code",
   "execution_count": 13,
   "id": "c3532e25",
   "metadata": {
    "execution": {
     "iopub.execute_input": "2024-09-15T16:56:52.901098Z",
     "iopub.status.busy": "2024-09-15T16:56:52.899984Z",
     "iopub.status.idle": "2024-09-15T16:56:53.432785Z",
     "shell.execute_reply": "2024-09-15T16:56:53.431447Z"
    },
    "papermill": {
     "duration": 0.543784,
     "end_time": "2024-09-15T16:56:53.435208",
     "exception": false,
     "start_time": "2024-09-15T16:56:52.891424",
     "status": "completed"
    },
    "tags": []
   },
   "outputs": [
    {
     "data": {
      "image/png": "[encoded data removed]",
      "text/plain": [
       "<Figure size 1600x100 with 2 Axes>"
      ]
     },
     "metadata": {},
     "output_type": "display_data"
    }
   ],
   "source": [
    "temp = df.dropna()\n",
    "temp = temp.apply(lambda x : pd.factorize(x)[0] if x.dtype == 'object' else x)\n",
    "plt.figure(figsize = (16, 1))\n",
    "sns.heatmap(temp.corr()[7 : 8], annot = True, cmap = 'coolwarm')\n",
    "plt.show()"
   ]
  },
  {
   "cell_type": "code",
   "execution_count": 14,
   "id": "6459610d",
   "metadata": {
    "execution": {
     "iopub.execute_input": "2024-09-15T16:56:53.451345Z",
     "iopub.status.busy": "2024-09-15T16:56:53.450792Z",
     "iopub.status.idle": "2024-09-15T16:56:53.473391Z",
     "shell.execute_reply": "2024-09-15T16:56:53.471993Z"
    },
    "papermill": {
     "duration": 0.033648,
     "end_time": "2024-09-15T16:56:53.475890",
     "exception": false,
     "start_time": "2024-09-15T16:56:53.442242",
     "status": "completed"
    },
    "tags": []
   },
   "outputs": [
    {
     "data": {
      "text/plain": [
       "((188533, 14), (188533,))"
      ]
     },
     "execution_count": 14,
     "metadata": {},
     "output_type": "execute_result"
    }
   ],
   "source": [
    "X = df.drop(['price'], axis = 1)\n",
    "X.shape, y.shape"
   ]
  },
  {
   "cell_type": "code",
   "execution_count": 15,
   "id": "e18bf56c",
   "metadata": {
    "execution": {
     "iopub.execute_input": "2024-09-15T16:56:53.492046Z",
     "iopub.status.busy": "2024-09-15T16:56:53.491625Z",
     "iopub.status.idle": "2024-09-15T16:56:53.605117Z",
     "shell.execute_reply": "2024-09-15T16:56:53.604019Z"
    },
    "papermill": {
     "duration": 0.124755,
     "end_time": "2024-09-15T16:56:53.607837",
     "exception": false,
     "start_time": "2024-09-15T16:56:53.483082",
     "status": "completed"
    },
    "tags": []
   },
   "outputs": [],
   "source": [
    "from sklearn.preprocessing import MinMaxScaler\n",
    "numerical_columns = ['brand', 'milage', 'fuel_type', 'ext_col', 'int_col', 'accident',\n",
    "                     'clean_title', 'horsepower', 'engine_size', 'cylinders',\n",
    "                     'Vehicle_Age', 'Mileage_per_Year', 'Is_Luxury_Brand']\n",
    "scaler = MinMaxScaler()\n",
    "X[numerical_columns] = scaler.fit_transform(X[numerical_columns])\n",
    "dt[numerical_columns] = scaler.transform(dt[numerical_columns])\n",
    "X_train, X_val, y_train, y_val = train_test_split(X, y, test_size = 0.17, random_state = 8)"
   ]
  },
  {
   "cell_type": "code",
   "execution_count": 16,
   "id": "5cf97769",
   "metadata": {
    "execution": {
     "iopub.execute_input": "2024-09-15T16:56:53.623908Z",
     "iopub.status.busy": "2024-09-15T16:56:53.623496Z",
     "iopub.status.idle": "2024-09-15T17:06:36.693009Z",
     "shell.execute_reply": "2024-09-15T17:06:36.691577Z"
    },
    "papermill": {
     "duration": 583.080869,
     "end_time": "2024-09-15T17:06:36.695988",
     "exception": false,
     "start_time": "2024-09-15T16:56:53.615119",
     "status": "completed"
    },
    "tags": []
   },
   "outputs": [
    {
     "name": "stdout",
     "output_type": "stream",
     "text": [
      "Epoch 1/120\n",
      "\u001b[1m1223/1223\u001b[0m \u001b[32m━━━━━━━━━━━━━━━━━━━━\u001b[0m\u001b[37m\u001b[0m \u001b[1m7s\u001b[0m 4ms/step - loss: 8209019392.0000 - val_loss: 8253794304.0000 - learning_rate: 0.0010\n",
      "Epoch 2/120\n",
      "\u001b[1m1223/1223\u001b[0m \u001b[32m━━━━━━━━━━━━━━━━━━━━\u001b[0m\u001b[37m\u001b[0m \u001b[1m4s\u001b[0m 3ms/step - loss: 8272022016.0000 - val_loss: 8125724160.0000 - learning_rate: 0.0010\n",
      "Epoch 3/120\n",
      "\u001b[1m1223/1223\u001b[0m \u001b[32m━━━━━━━━━━━━━━━━━━━━\u001b[0m\u001b[37m\u001b[0m \u001b[1m4s\u001b[0m 3ms/step - loss: 8490738176.0000 - val_loss: 7952977920.0000 - learning_rate: 0.0010\n",
      "Epoch 4/120\n",
      "\u001b[1m1223/1223\u001b[0m \u001b[32m━━━━━━━━━━━━━━━━━━━━\u001b[0m\u001b[37m\u001b[0m \u001b[1m4s\u001b[0m 3ms/step - loss: 8561570304.0000 - val_loss: 8220480000.0000 - learning_rate: 0.0010\n",
      "Epoch 5/120\n",
      "\u001b[1m1223/1223\u001b[0m \u001b[32m━━━━━━━━━━━━━━━━━━━━\u001b[0m\u001b[37m\u001b[0m \u001b[1m4s\u001b[0m 3ms/step - loss: 7327148032.0000 - val_loss: 7224194560.0000 - learning_rate: 0.0010\n",
      "Epoch 6/120\n",
      "\u001b[1m1223/1223\u001b[0m \u001b[32m━━━━━━━━━━━━━━━━━━━━\u001b[0m\u001b[37m\u001b[0m \u001b[1m4s\u001b[0m 4ms/step - loss: 7386715136.0000 - val_loss: 7024678400.0000 - learning_rate: 0.0010\n",
      "Epoch 7/120\n",
      "\u001b[1m1223/1223\u001b[0m \u001b[32m━━━━━━━━━━━━━━━━━━━━\u001b[0m\u001b[37m\u001b[0m \u001b[1m4s\u001b[0m 3ms/step - loss: 7364454400.0000 - val_loss: 7407414272.0000 - learning_rate: 0.0010\n",
      "Epoch 8/120\n",
      "\u001b[1m1223/1223\u001b[0m \u001b[32m━━━━━━━━━━━━━━━━━━━━\u001b[0m\u001b[37m\u001b[0m \u001b[1m4s\u001b[0m 3ms/step - loss: 7198253568.0000 - val_loss: 7624364032.0000 - learning_rate: 0.0010\n",
      "Epoch 9/120\n",
      "\u001b[1m1223/1223\u001b[0m \u001b[32m━━━━━━━━━━━━━━━━━━━━\u001b[0m\u001b[37m\u001b[0m \u001b[1m4s\u001b[0m 3ms/step - loss: 7621641728.0000 - val_loss: 6167002112.0000 - learning_rate: 0.0010\n",
      "Epoch 10/120\n",
      "\u001b[1m1223/1223\u001b[0m \u001b[32m━━━━━━━━━━━━━━━━━━━━\u001b[0m\u001b[37m\u001b[0m \u001b[1m6s\u001b[0m 4ms/step - loss: 6697545728.0000 - val_loss: 7244369920.0000 - learning_rate: 0.0010\n",
      "Epoch 11/120\n",
      "\u001b[1m1223/1223\u001b[0m \u001b[32m━━━━━━━━━━━━━━━━━━━━\u001b[0m\u001b[37m\u001b[0m \u001b[1m4s\u001b[0m 3ms/step - loss: 6013526016.0000 - val_loss: 5965202432.0000 - learning_rate: 0.0010\n",
      "Epoch 12/120\n",
      "\u001b[1m1223/1223\u001b[0m \u001b[32m━━━━━━━━━━━━━━━━━━━━\u001b[0m\u001b[37m\u001b[0m \u001b[1m5s\u001b[0m 4ms/step - loss: 6622857216.0000 - val_loss: 5889260032.0000 - learning_rate: 0.0010\n",
      "Epoch 13/120\n",
      "\u001b[1m1223/1223\u001b[0m \u001b[32m━━━━━━━━━━━━━━━━━━━━\u001b[0m\u001b[37m\u001b[0m \u001b[1m10s\u001b[0m 8ms/step - loss: 5917218304.0000 - val_loss: 6307882496.0000 - learning_rate: 0.0010\n",
      "Epoch 14/120\n",
      "\u001b[1m1223/1223\u001b[0m \u001b[32m━━━━━━━━━━━━━━━━━━━━\u001b[0m\u001b[37m\u001b[0m \u001b[1m4s\u001b[0m 4ms/step - loss: 6397180928.0000 - val_loss: 5814541312.0000 - learning_rate: 0.0010\n",
      "Epoch 15/120\n",
      "\u001b[1m1223/1223\u001b[0m \u001b[32m━━━━━━━━━━━━━━━━━━━━\u001b[0m\u001b[37m\u001b[0m \u001b[1m7s\u001b[0m 6ms/step - loss: 6376969728.0000 - val_loss: 5655194624.0000 - learning_rate: 0.0010\n",
      "Epoch 16/120\n",
      "\u001b[1m1223/1223\u001b[0m \u001b[32m━━━━━━━━━━━━━━━━━━━━\u001b[0m\u001b[37m\u001b[0m \u001b[1m10s\u001b[0m 8ms/step - loss: 5683107840.0000 - val_loss: 5586027520.0000 - learning_rate: 0.0010\n",
      "Epoch 17/120\n",
      "\u001b[1m1223/1223\u001b[0m \u001b[32m━━━━━━━━━━━━━━━━━━━━\u001b[0m\u001b[37m\u001b[0m \u001b[1m4s\u001b[0m 3ms/step - loss: 5757406720.0000 - val_loss: 5921708544.0000 - learning_rate: 0.0010\n",
      "Epoch 18/120\n",
      "\u001b[1m1223/1223\u001b[0m \u001b[32m━━━━━━━━━━━━━━━━━━━━\u001b[0m\u001b[37m\u001b[0m \u001b[1m4s\u001b[0m 3ms/step - loss: 5263204352.0000 - val_loss: 6458504192.0000 - learning_rate: 0.0010\n",
      "Epoch 19/120\n",
      "\u001b[1m1223/1223\u001b[0m \u001b[32m━━━━━━━━━━━━━━━━━━━━\u001b[0m\u001b[37m\u001b[0m \u001b[1m4s\u001b[0m 3ms/step - loss: 5670216704.0000 - val_loss: 5697491968.0000 - learning_rate: 0.0010\n",
      "Epoch 20/120\n",
      "\u001b[1m1223/1223\u001b[0m \u001b[32m━━━━━━━━━━━━━━━━━━━━\u001b[0m\u001b[37m\u001b[0m \u001b[1m4s\u001b[0m 3ms/step - loss: 5911679488.0000 - val_loss: 5584157696.0000 - learning_rate: 0.0010\n",
      "Epoch 21/120\n",
      "\u001b[1m1223/1223\u001b[0m \u001b[32m━━━━━━━━━━━━━━━━━━━━\u001b[0m\u001b[37m\u001b[0m \u001b[1m4s\u001b[0m 3ms/step - loss: 6268861440.0000 - val_loss: 6025369088.0000 - learning_rate: 0.0010\n",
      "Epoch 22/120\n",
      "\u001b[1m1223/1223\u001b[0m \u001b[32m━━━━━━━━━━━━━━━━━━━━\u001b[0m\u001b[37m\u001b[0m \u001b[1m4s\u001b[0m 3ms/step - loss: 5668859904.0000 - val_loss: 5567110656.0000 - learning_rate: 0.0010\n",
      "Epoch 23/120\n",
      "\u001b[1m1223/1223\u001b[0m \u001b[32m━━━━━━━━━━━━━━━━━━━━\u001b[0m\u001b[37m\u001b[0m \u001b[1m4s\u001b[0m 3ms/step - loss: 5664179712.0000 - val_loss: 5524324864.0000 - learning_rate: 0.0010\n",
      "Epoch 24/120\n",
      "\u001b[1m1223/1223\u001b[0m \u001b[32m━━━━━━━━━━━━━━━━━━━━\u001b[0m\u001b[37m\u001b[0m \u001b[1m4s\u001b[0m 3ms/step - loss: 6130789888.0000 - val_loss: 5647438336.0000 - learning_rate: 0.0010\n",
      "Epoch 25/120\n",
      "\u001b[1m1223/1223\u001b[0m \u001b[32m━━━━━━━━━━━━━━━━━━━━\u001b[0m\u001b[37m\u001b[0m \u001b[1m4s\u001b[0m 3ms/step - loss: 5925882880.0000 - val_loss: 8126225920.0000 - learning_rate: 0.0010\n",
      "Epoch 26/120\n",
      "\u001b[1m1223/1223\u001b[0m \u001b[32m━━━━━━━━━━━━━━━━━━━━\u001b[0m\u001b[37m\u001b[0m \u001b[1m4s\u001b[0m 3ms/step - loss: 5655301632.0000 - val_loss: 5653370880.0000 - learning_rate: 0.0010\n",
      "Epoch 27/120\n",
      "\u001b[1m1223/1223\u001b[0m \u001b[32m━━━━━━━━━━━━━━━━━━━━\u001b[0m\u001b[37m\u001b[0m \u001b[1m4s\u001b[0m 3ms/step - loss: 5499413504.0000 - val_loss: 5562652672.0000 - learning_rate: 0.0010\n",
      "Epoch 28/120\n",
      "\u001b[1m1223/1223\u001b[0m \u001b[32m━━━━━━━━━━━━━━━━━━━━\u001b[0m\u001b[37m\u001b[0m \u001b[1m4s\u001b[0m 3ms/step - loss: 5553025024.0000 - val_loss: 5992215040.0000 - learning_rate: 0.0010\n",
      "Epoch 29/120\n",
      "\u001b[1m1223/1223\u001b[0m \u001b[32m━━━━━━━━━━━━━━━━━━━━\u001b[0m\u001b[37m\u001b[0m \u001b[1m4s\u001b[0m 3ms/step - loss: 5448665088.0000 - val_loss: 7311231488.0000 - learning_rate: 0.0010\n",
      "Epoch 30/120\n",
      "\u001b[1m1223/1223\u001b[0m \u001b[32m━━━━━━━━━━━━━━━━━━━━\u001b[0m\u001b[37m\u001b[0m \u001b[1m4s\u001b[0m 3ms/step - loss: 5497068032.0000 - val_loss: 5844689920.0000 - learning_rate: 0.0010\n",
      "Epoch 31/120\n",
      "\u001b[1m1223/1223\u001b[0m \u001b[32m━━━━━━━━━━━━━━━━━━━━\u001b[0m\u001b[37m\u001b[0m \u001b[1m4s\u001b[0m 3ms/step - loss: 5843574784.0000 - val_loss: 5729894912.0000 - learning_rate: 0.0010\n",
      "Epoch 32/120\n",
      "\u001b[1m1223/1223\u001b[0m \u001b[32m━━━━━━━━━━━━━━━━━━━━\u001b[0m\u001b[37m\u001b[0m \u001b[1m4s\u001b[0m 3ms/step - loss: 5426025472.0000 - val_loss: 5807081472.0000 - learning_rate: 0.0010\n",
      "Epoch 33/120\n",
      "\u001b[1m1223/1223\u001b[0m \u001b[32m━━━━━━━━━━━━━━━━━━━━\u001b[0m\u001b[37m\u001b[0m \u001b[1m4s\u001b[0m 3ms/step - loss: 5431119360.0000 - val_loss: 5563515904.0000 - learning_rate: 0.0010\n",
      "Epoch 34/120\n",
      "\u001b[1m1223/1223\u001b[0m \u001b[32m━━━━━━━━━━━━━━━━━━━━\u001b[0m\u001b[37m\u001b[0m \u001b[1m4s\u001b[0m 3ms/step - loss: 4953743360.0000 - val_loss: 5571943424.0000 - learning_rate: 0.0010\n",
      "Epoch 35/120\n",
      "\u001b[1m1223/1223\u001b[0m \u001b[32m━━━━━━━━━━━━━━━━━━━━\u001b[0m\u001b[37m\u001b[0m \u001b[1m9s\u001b[0m 7ms/step - loss: 5220319744.0000 - val_loss: 5552187904.0000 - learning_rate: 0.0010\n",
      "Epoch 36/120\n",
      "\u001b[1m1223/1223\u001b[0m \u001b[32m━━━━━━━━━━━━━━━━━━━━\u001b[0m\u001b[37m\u001b[0m \u001b[1m4s\u001b[0m 3ms/step - loss: 5292137472.0000 - val_loss: 6027991552.0000 - learning_rate: 0.0010\n",
      "Epoch 37/120\n",
      "\u001b[1m1223/1223\u001b[0m \u001b[32m━━━━━━━━━━━━━━━━━━━━\u001b[0m\u001b[37m\u001b[0m \u001b[1m6s\u001b[0m 4ms/step - loss: 5995347968.0000 - val_loss: 5550698496.0000 - learning_rate: 0.0010\n",
      "Epoch 38/120\n",
      "\u001b[1m1223/1223\u001b[0m \u001b[32m━━━━━━━━━━━━━━━━━━━━\u001b[0m\u001b[37m\u001b[0m \u001b[1m6s\u001b[0m 4ms/step - loss: 5453229568.0000 - val_loss: 6128245760.0000 - learning_rate: 0.0010\n",
      "Epoch 39/120\n",
      "\u001b[1m1223/1223\u001b[0m \u001b[32m━━━━━━━━━━━━━━━━━━━━\u001b[0m\u001b[37m\u001b[0m \u001b[1m4s\u001b[0m 3ms/step - loss: 5321001984.0000 - val_loss: 5593945600.0000 - learning_rate: 0.0010\n",
      "Epoch 40/120\n",
      "\u001b[1m1223/1223\u001b[0m \u001b[32m━━━━━━━━━━━━━━━━━━━━\u001b[0m\u001b[37m\u001b[0m \u001b[1m4s\u001b[0m 3ms/step - loss: 4894532608.0000 - val_loss: 5814813184.0000 - learning_rate: 0.0010\n",
      "Epoch 41/120\n",
      "\u001b[1m1223/1223\u001b[0m \u001b[32m━━━━━━━━━━━━━━━━━━━━\u001b[0m\u001b[37m\u001b[0m \u001b[1m4s\u001b[0m 3ms/step - loss: 5147480576.0000 - val_loss: 5646245376.0000 - learning_rate: 0.0010\n",
      "Epoch 42/120\n",
      "\u001b[1m1223/1223\u001b[0m \u001b[32m━━━━━━━━━━━━━━━━━━━━\u001b[0m\u001b[37m\u001b[0m \u001b[1m4s\u001b[0m 3ms/step - loss: 5231501312.0000 - val_loss: 5632811520.0000 - learning_rate: 0.0010\n",
      "Epoch 43/120\n",
      "\u001b[1m1223/1223\u001b[0m \u001b[32m━━━━━━━━━━━━━━━━━━━━\u001b[0m\u001b[37m\u001b[0m \u001b[1m4s\u001b[0m 3ms/step - loss: 5317746688.0000 - val_loss: 5659033600.0000 - learning_rate: 0.0010\n",
      "Epoch 44/120\n",
      "\u001b[1m1223/1223\u001b[0m \u001b[32m━━━━━━━━━━━━━━━━━━━━\u001b[0m\u001b[37m\u001b[0m \u001b[1m4s\u001b[0m 3ms/step - loss: 5196575232.0000 - val_loss: 5683101696.0000 - learning_rate: 0.0010\n",
      "Epoch 45/120\n",
      "\u001b[1m1223/1223\u001b[0m \u001b[32m━━━━━━━━━━━━━━━━━━━━\u001b[0m\u001b[37m\u001b[0m \u001b[1m4s\u001b[0m 3ms/step - loss: 5082828800.0000 - val_loss: 5806404096.0000 - learning_rate: 0.0010\n",
      "Epoch 46/120\n",
      "\u001b[1m1223/1223\u001b[0m \u001b[32m━━━━━━━━━━━━━━━━━━━━\u001b[0m\u001b[37m\u001b[0m \u001b[1m4s\u001b[0m 3ms/step - loss: 5703028224.0000 - val_loss: 6384809472.0000 - learning_rate: 0.0010\n",
      "Epoch 47/120\n",
      "\u001b[1m1223/1223\u001b[0m \u001b[32m━━━━━━━━━━━━━━━━━━━━\u001b[0m\u001b[37m\u001b[0m \u001b[1m4s\u001b[0m 3ms/step - loss: 6083170304.0000 - val_loss: 5530633216.0000 - learning_rate: 0.0010\n"
     ]
    },
    {
     "data": {
      "image/png": "[encoded data removed]",
      "text/plain": [
       "<Figure size 1100x1000 with 1 Axes>"
      ]
     },
     "metadata": {},
     "output_type": "display_data"
    }
   ],
   "source": [
    "model = Sequential([\n",
    "    Input(shape = (X_train.shape[1],)),\n",
    "    Dense(256, activation = 'relu'),\n",
    "    BatchNormalization(),\n",
    "    Dropout(0.13),\n",
    "    Dense(128, activation = 'relu'),\n",
    "    BatchNormalization(),\n",
    "    Dropout(0.1),\n",
    "    Dense(64, activation = 'relu'),\n",
    "    BatchNormalization(),\n",
    "    Dense(1, activation = 'linear')  \n",
    "])\n",
    "model.compile(loss = 'mean_squared_error', optimizer = Adam(learning_rate = 0.001))\n",
    "es = EarlyStopping(monitor = 'val_loss', patience = 24, restore_best_weights = True)\n",
    "lr = ReduceLROnPlateau(monitor = 'val_loss', factor = 0.1, patience = 24, min_lr = 1e-6)\n",
    "history = model.fit(X_train, y_train, epochs = 120, batch_size = 128, validation_data = (X_val, y_val), callbacks = [es, lr])\n",
    "plt.figure(figsize=(11, 10))\n",
    "plt.plot(history.history['loss'])\n",
    "plt.plot(history.history['val_loss'])\n",
    "plt.title('Model Loss')\n",
    "plt.xlabel('Epoch')\n",
    "plt.ylabel('Loss')\n",
    "plt.legend(['Train', 'Validation'])\n",
    "plt.show()"
   ]
  },
  {
   "cell_type": "code",
   "execution_count": 17,
   "id": "f286064e",
   "metadata": {},
   "outputs": [
    {
     "name": "stdout",
     "output_type": "stream",
     "text": [
      "\u001b[1m4891/4891\u001b[0m \u001b[32m━━━━━━━━━━━━━━━━━━━━\u001b[0m\u001b[37m\u001b[0m \u001b[1m4s\u001b[0m 816us/step\n",
      "\u001b[1m1002/1002\u001b[0m \u001b[32m━━━━━━━━━━━━━━━━━━━━\u001b[0m\u001b[37m\u001b[0m \u001b[1m1s\u001b[0m 875us/step\n"
     ]
    }
   ],
   "source": [
    "from sklearn.metrics import root_mean_squared_error as rmse\n",
    "train_error = rmse(y_train, model.predict(X_train))\n",
    "val_error = rmse(y_val, model.predict(X_val))"
   ]
  },
  {
   "cell_type": "code",
   "execution_count": 18,
   "id": "52b14e9b",
   "metadata": {},
   "outputs": [
    {
     "name": "stdout",
     "output_type": "stream",
     "text": [
      "Train RMSE:  73771.9140625\n",
      "Validation RMSE:  74325.8125\n"
     ]
    }
   ],
   "source": [
    "print(\"Train RMSE: \", train_error)\n",
    "print(\"Validation RMSE: \", val_error)"
   ]
  },
  {
   "cell_type": "code",
   "execution_count": 19,
   "id": "9119bb9f",
   "metadata": {},
   "outputs": [
    {
     "name": "stdout",
     "output_type": "stream",
     "text": [
      "\u001b[1m3928/3928\u001b[0m \u001b[32m━━━━━━━━━━━━━━━━━━━━\u001b[0m\u001b[37m\u001b[0m \u001b[1m3s\u001b[0m 852us/step\n"
     ]
    }
   ],
   "source": [
    "y_pred = model.predict(dt)\n",
    "sf.set_index('id', inplace = True)\n",
    "sf['price'] = y_pred\n",
    "sf.to_csv('Submission.csv')"
   ]
  }
 ],
 "metadata": {
  "kaggle": {
   "accelerator": "none",
   "dataSources": [
    {
     "databundleVersionId": 9057646,
     "sourceId": 76728,
     "sourceType": "competition"
    }
   ],
   "dockerImageVersionId": 30761,
   "isGpuEnabled": false,
   "isInternetEnabled": false,
   "language": "python",
   "sourceType": "notebook"
  },
  "kernelspec": {
   "display_name": "Python 3",
   "language": "python",
   "name": "python3"
  },
  "language_info": {
   "codemirror_mode": {
    "name": "ipython",
    "version": 3
   },
   "file_extension": ".py",
   "mimetype": "text/x-python",
   "name": "python",
   "nbconvert_exporter": "python",
   "pygments_lexer": "ipython3",
   "version": "3.12.8"
  },
  "papermill": {
   "default_parameters": {},
   "duration": 632.206094,
   "end_time": "2024-09-15T17:06:49.944676",
   "environment_variables": {},
   "exception": null,
   "input_path": "__notebook__.ipynb",
   "output_path": "__notebook__.ipynb",
   "parameters": {},
   "start_time": "2024-09-15T16:56:17.738582",
   "version": "2.6.0"
  }
 },
 "nbformat": 4,
 "nbformat_minor": 5
}
